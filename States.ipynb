{
 "cells": [
  {
   "cell_type": "code",
   "execution_count": 3,
   "id": "778dc080-9791-44da-a1ab-e0fede8a5b32",
   "metadata": {},
   "outputs": [
    {
     "name": "stdout",
     "output_type": "stream",
     "text": [
      "Requirement already satisfied: pyodbc in c:\\users\\admin\\anaconda3\\lib\\site-packages (5.0.1)\n"
     ]
    }
   ],
   "source": [
    "!pip install pyodbc\n",
    "import pyodbc\n",
    "import pandas as pd\n",
    "\n",
    "import warnings\n",
    "warnings.filterwarnings(\"ignore\", message=\"pandas only supports SQLAlchemy connectable\")"
   ]
  },
  {
   "cell_type": "code",
   "execution_count": 4,
   "id": "747bf774-afb6-4c1f-a78b-2403ca51f168",
   "metadata": {},
   "outputs": [
    {
     "name": "stdout",
     "output_type": "stream",
     "text": [
      "connected\n"
     ]
    }
   ],
   "source": [
    "#connect\n",
    "try:\n",
    "    conn = pyodbc.connect('Driver={SQL Server};'\n",
    "    'SERVER=DESKTOP-PB0KRHD\\\\SQLEXPRESS;' \n",
    "    'DATABASE=States;'\n",
    "    'Trusted_Connection=yes;')\n",
    "    print('connected')\n",
    "except:\n",
    "    print(\"failed\")"
   ]
  },
  {
   "cell_type": "code",
   "execution_count": 5,
   "id": "32871779-bcee-49e4-bb5f-74b3e92ce0b7",
   "metadata": {},
   "outputs": [
    {
     "name": "stdout",
     "output_type": "stream",
     "text": [
      "Quarter wise rainfall with annual rainfall:\n",
      "      YEAR         SUBDIVISION         Q1          Q2          Q3          Q4  \\\n",
      "0    1901      GUJARAT REGION   4.800000   68.899999  463.699991   16.900000   \n",
      "1    1901  MAHARASHTRA REGION  27.099999  174.699995  493.699997   73.599997   \n",
      "2    1902      GUJARAT REGION   3.900000   34.399999  810.000015   15.700000   \n",
      "3    1902  MAHARASHTRA REGION   7.900000  117.399999  494.899994  163.800003   \n",
      "4    1903      GUJARAT REGION   1.800000   42.400001  838.099991    5.400000   \n",
      "..    ...                 ...        ...         ...         ...         ...   \n",
      "225  2013  MAHARASHTRA REGION   6.200000  224.099994  669.099991   63.099999   \n",
      "226  2014      GUJARAT REGION   6.000000   13.900000  681.200012    4.600000   \n",
      "227  2014  MAHARASHTRA REGION  33.699999   81.299999  638.599998   84.400000   \n",
      "228  2015      GUJARAT REGION   7.900000  127.099997  485.500015    2.500000   \n",
      "229  2015  MAHARASHTRA REGION  43.400001  211.000000  325.500000   64.600000   \n",
      "\n",
      "         ANNUAL  \n",
      "0    554.299988  \n",
      "1    769.000000  \n",
      "2    863.900024  \n",
      "3    784.000000  \n",
      "4    887.599976  \n",
      "..          ...  \n",
      "225  962.400024  \n",
      "226  705.700012  \n",
      "227  838.000000  \n",
      "228  622.900024  \n",
      "229  644.500000  \n",
      "\n",
      "[230 rows x 7 columns]\n"
     ]
    },
    {
     "name": "stderr",
     "output_type": "stream",
     "text": [
      "C:\\Users\\Admin\\AppData\\Local\\Temp\\ipykernel_5716\\916991861.py:3: UserWarning: pandas only supports SQLAlchemy connectable (engine/connection) or database string URI or sqlite3 DBAPI2 connection. Other DBAPI2 objects are not tested. Please consider using SQLAlchemy.\n",
      "  rainfall_df = pd.read_sql(rain, conn)\n"
     ]
    }
   ],
   "source": [
    "#1.Create a Dataframe showing Quarter wise rainfall with annual rainfall\n",
    "rain = 'SELECT * FROM RAIN' #fetch from database\n",
    "rainfall_df = pd.read_sql_query(rain, conn)\n",
    "\n",
    "rainfall_df['Q1'] = rainfall_df[['JAN', 'FEB', 'MAR']].sum(axis=1)\n",
    "rainfall_df['Q2'] = rainfall_df[['APR', 'MAY', 'JUN']].sum(axis=1)\n",
    "rainfall_df['Q3'] = rainfall_df[['JUL', 'AUG', 'SEP']].sum(axis=1)\n",
    "rainfall_df['Q4'] = rainfall_df[['OCT', 'NOV', 'DEC']].sum(axis=1)\n",
    "\n",
    "quarterly_rainfall_df = rainfall_df[['YEAR', 'SUBDIVISION', 'Q1', 'Q2', 'Q3', 'Q4', 'ANNUAL']]\n",
    "print(\"Quarter wise rainfall with annual rainfall:\\n\", quarterly_rainfall_df)\n",
    "\n",
    "#the majority of rainfall occurs in Q3 (July to September), highlighting the monsoon season's impact. \n",
    "#For example, in 1901, out of 554.3 mm of annual rainfall, 463.7 mm fell in Q3.\n",
    "#and q1 with the lowest"
   ]
  },
  {
   "cell_type": "code",
   "execution_count": 6,
   "id": "13b41a52-28bb-4391-adb1-499e462f5b44",
   "metadata": {},
   "outputs": [
    {
     "name": "stdout",
     "output_type": "stream",
     "text": [
      "\n",
      "Gujarat Rainfall DataFrame:\n",
      "    YEAR     SUBDIVISION  JAN  FEB  MAR  APR  MAY        JUN         JUL  \\\n",
      "0  1901  GUJARAT REGION  4.2  0.0  0.6  1.6  7.0  60.299999  240.199997   \n",
      "2  1902  GUJARAT REGION  3.9  0.0  0.0  0.6  1.0  32.799999  229.800003   \n",
      "\n",
      "          AUG         SEP   OCT  NOV   DEC      ANNUAL   Q1         Q2  \\\n",
      "0  205.399994   18.100000  16.6  0.0   0.3  554.299988  4.8  68.899999   \n",
      "2  299.000000  281.200012   2.3  1.5  11.9  863.900024  3.9  34.399999   \n",
      "\n",
      "           Q3    Q4  \n",
      "0  463.699991  16.9  \n",
      "2  810.000015  15.7  \n",
      "\n",
      "Maharashtra Rainfall DataFrame:\n",
      "    YEAR         SUBDIVISION        JAN  FEB  MAR        APR   MAY         JUN  \\\n",
      "1  1901  MAHARASHTRA REGION  18.799999  0.6  7.7  36.599998  30.4  107.699997   \n",
      "3  1902  MAHARASHTRA REGION   7.800000  0.0  0.1   5.000000   9.8  102.599998   \n",
      "\n",
      "          JUL         AUG         SEP        OCT   NOV        DEC  ANNUAL  \\\n",
      "1  215.899994  194.100006   83.699997  68.699997   4.4   0.500000   769.0   \n",
      "3  210.899994  114.500000  169.500000  60.400002  40.5  62.900002   784.0   \n",
      "\n",
      "          Q1          Q2          Q3          Q4  \n",
      "1  27.099999  174.699995  493.699997   73.599997  \n",
      "3   7.900000  117.399999  494.899994  163.800003  \n"
     ]
    }
   ],
   "source": [
    "#2. Separate a Dataframes of Gujarat and Maharashtra Rainfall\n",
    "gujarat_rainfall_df = rainfall_df[rainfall_df['SUBDIVISION'] == 'GUJARAT REGION']\n",
    "maharashtra_rainfall_df = rainfall_df[rainfall_df['SUBDIVISION'] == 'MAHARASHTRA REGION']\n",
    "\n",
    "print(\"\\nGujarat Rainfall DataFrame:\\n\", gujarat_rainfall_df.head(2))\n",
    "print(\"\\nMaharashtra Rainfall DataFrame:\\n\", maharashtra_rainfall_df.head(2))"
   ]
  },
  {
   "cell_type": "code",
   "execution_count": 7,
   "id": "18e65751-50df-4b13-88f6-a726128306ee",
   "metadata": {},
   "outputs": [
    {
     "name": "stdout",
     "output_type": "stream",
     "text": [
      "\n",
      "Gujarat Rainfall DataFrame with 'Year' as index:\n",
      "          SUBDIVISION  JAN   FEB        MAR  APR   MAY        JUN         JUL  \\\n",
      "YEAR                                                                           \n",
      "1901  GUJARAT REGION  4.2   0.0   0.600000  1.6   7.0  60.299999  240.199997   \n",
      "1902  GUJARAT REGION  3.9   0.0   0.000000  0.6   1.0  32.799999  229.800003   \n",
      "1903  GUJARAT REGION  0.3   0.1   1.400000  0.0  12.3  30.100000  452.899994   \n",
      "1904  GUJARAT REGION  0.8  10.6  16.799999  0.2   3.9  48.299999  194.800003   \n",
      "1905  GUJARAT REGION  0.1   0.7   1.100000  0.3   0.0  20.100000  668.299988   \n",
      "\n",
      "             AUG         SEP   OCT  NOV   DEC      ANNUAL    Q1         Q2  \\\n",
      "YEAR                                                                         \n",
      "1901  205.399994   18.100000  16.6  0.0   0.3  554.299988   4.8  68.899999   \n",
      "1902  299.000000  281.200012   2.3  1.5  11.9  863.900024   3.9  34.399999   \n",
      "1903  202.000000  183.199997   5.4  0.0   0.0  887.599976   1.8  42.400001   \n",
      "1904   71.800003  138.000000   6.1  0.1   1.2  492.600006  28.2  52.399999   \n",
      "1905   37.900002   81.300003   1.4  0.2   0.1  811.500000   1.9  20.400000   \n",
      "\n",
      "              Q3    Q4  \n",
      "YEAR                    \n",
      "1901  463.699991  16.9  \n",
      "1902  810.000015  15.7  \n",
      "1903  838.099991   5.4  \n",
      "1904  404.600006   7.4  \n",
      "1905  787.499992   1.7  \n"
     ]
    }
   ],
   "source": [
    "#3 use Year as index in Gujarat Dataframe of Rainfall\n",
    "gujarat_rainfall_df.set_index('YEAR', inplace=True)\n",
    "print(\"\\nGujarat Rainfall DataFrame with 'Year' as index:\\n\", gujarat_rainfall_df.head())\n",
    "# Access data for the year 1901\n",
    "#data_for_1901 = gujarat_rainfall_df.loc[1902]\n",
    "#print(data_for_1901)"
   ]
  },
  {
   "cell_type": "code",
   "execution_count": 8,
   "id": "570d0dab-078f-403a-94ad-6ad0b2968261",
   "metadata": {},
   "outputs": [
    {
     "name": "stdout",
     "output_type": "stream",
     "text": [
      "\n",
      "Statistics of Gujarat Population Column:\n",
      " count         12.00\n",
      "mean    25363689.58\n",
      "std     17513887.28\n",
      "min      9094748.00\n",
      "25%     11161118.25\n",
      "50%     18448003.50\n",
      "75%     35891744.75\n",
      "max     60439692.00\n",
      "Name: population, dtype: float64\n"
     ]
    },
    {
     "name": "stderr",
     "output_type": "stream",
     "text": [
      "C:\\Users\\Admin\\AppData\\Local\\Temp\\ipykernel_5716\\874720019.py:3: UserWarning: pandas only supports SQLAlchemy connectable (engine/connection) or database string URI or sqlite3 DBAPI2 connection. Other DBAPI2 objects are not tested. Please consider using SQLAlchemy.\n",
      "  gujarat_pop_df = pd.read_sql(gujarat_query, conn)\n"
     ]
    }
   ],
   "source": [
    "#4. Print the statistics of Gujarat Population Dataframe\n",
    "gujarat_query = 'SELECT population FROM GUJARAT'\n",
    "gujarat_pop_df = pd.read_sql_query(gujarat_query, conn)\n",
    "\n",
    "pd.options.display.float_format = '{:.2f}'.format\n",
    "# Display statistics of the population column \n",
    "print(\"\\nStatistics of Gujarat Population Column:\\n\", gujarat_pop_df['population'].describe(include='all'))\n"
   ]
  },
  {
   "cell_type": "code",
   "execution_count": 9,
   "id": "1a55b9c0-4ae4-4432-acce-3fd1bf765a34",
   "metadata": {},
   "outputs": [
    {
     "name": "stdout",
     "output_type": "stream",
     "text": [
      "\n",
      "Growth rate of Maharashtra population in 2001: 22.729999542236328%\n"
     ]
    },
    {
     "name": "stderr",
     "output_type": "stream",
     "text": [
      "C:\\Users\\Admin\\AppData\\Local\\Temp\\ipykernel_5716\\920297177.py:3: UserWarning: pandas only supports SQLAlchemy connectable (engine/connection) or database string URI or sqlite3 DBAPI2 connection. Other DBAPI2 objects are not tested. Please consider using SQLAlchemy.\n",
      "  maharashtra_pop_df = pd.read_sql(maharashtra_query, conn)\n"
     ]
    }
   ],
   "source": [
    "#5. Print the growth rate of maharashtra population in year 2001\n",
    "maharashtra_query = 'SELECT * FROM MAHARASHTRA'\n",
    "maharashtra_pop_df = pd.read_sql_query(maharashtra_query, conn) \n",
    "growth_rate_2001 = maharashtra_pop_df.query('Year == 2001')['GrowthRate'].iloc[0]\n",
    "conn.close\n",
    "print(f\"\\nGrowth rate of Maharashtra population in 2001: {growth_rate_2001}%\")"
   ]
  },
  {
   "cell_type": "code",
   "execution_count": null,
   "id": "c506bf12-83a7-4906-af38-07c9b2411528",
   "metadata": {},
   "outputs": [],
   "source": []
  }
 ],
 "metadata": {
  "kernelspec": {
   "display_name": "Python 3 (ipykernel)",
   "language": "python",
   "name": "python3"
  },
  "language_info": {
   "codemirror_mode": {
    "name": "ipython",
    "version": 3
   },
   "file_extension": ".py",
   "mimetype": "text/x-python",
   "name": "python",
   "nbconvert_exporter": "python",
   "pygments_lexer": "ipython3",
   "version": "3.12.4"
  }
 },
 "nbformat": 4,
 "nbformat_minor": 5
}
